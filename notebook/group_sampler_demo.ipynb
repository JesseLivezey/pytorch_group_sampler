{
 "cells": [
  {
   "cell_type": "code",
   "execution_count": 1,
   "metadata": {},
   "outputs": [],
   "source": [
    "import time\n",
    "import numpy as np\n",
    "from scipy.stats import ortho_group, special_ortho_group\n",
    "\n",
    "import torch\n",
    "from group_sampler import ortho_group_rvs, special_ortho_group_rvs\n",
    "\n",
    "import matplotlib.pyplot as plt"
   ]
  },
  {
   "cell_type": "markdown",
   "metadata": {},
   "source": [
    "# Timing and accuracy on GPU\n",
    "\n",
    "Time sampling from groups and compare $R\\cdot R^{-1}$ with the identity matrix."
   ]
  },
  {
   "cell_type": "code",
   "execution_count": 2,
   "metadata": {},
   "outputs": [],
   "source": [
    "time_dim = 1000\n",
    "plot_dim = 100\n",
    "time_dims = np.unique(np.logspace(1, 3, 10, dtype=int)).tolist()\n",
    "n_repeat = 5"
   ]
  },
  {
   "cell_type": "markdown",
   "metadata": {},
   "source": [
    "# Orthogonal group"
   ]
  },
  {
   "cell_type": "code",
   "execution_count": 3,
   "metadata": {},
   "outputs": [
    {
     "name": "stdout",
     "output_type": "stream",
     "text": [
      "13.2 s ± 158 ms per loop (mean ± std. dev. of 7 runs, 1 loop each)\n"
     ]
    }
   ],
   "source": [
    "%timeit ortho_group.rvs(time_dim)"
   ]
  },
  {
   "cell_type": "code",
   "execution_count": 4,
   "metadata": {},
   "outputs": [
    {
     "name": "stdout",
     "output_type": "stream",
     "text": [
      "276 ms ± 3.21 ms per loop (mean ± std. dev. of 7 runs, 1 loop each)\n"
     ]
    }
   ],
   "source": [
    "%timeit ortho_group_rvs(time_dim)"
   ]
  },
  {
   "cell_type": "code",
   "execution_count": 5,
   "metadata": {},
   "outputs": [
    {
     "name": "stdout",
     "output_type": "stream",
     "text": [
      "619 ms ± 1.16 ms per loop (mean ± std. dev. of 7 runs, 1 loop each)\n"
     ]
    }
   ],
   "source": [
    "%timeit ortho_group_rvs(time_dim, dtype=torch.float64)"
   ]
  },
  {
   "cell_type": "code",
   "execution_count": 6,
   "metadata": {},
   "outputs": [],
   "source": [
    "Ot32 = ortho_group_rvs(plot_dim)\n",
    "Ot64 = ortho_group_rvs(plot_dim, dtype=torch.float64)\n",
    "Osp = ortho_group.rvs(plot_dim)\n",
    "eye = np.eye(plot_dim)"
   ]
  },
  {
   "cell_type": "code",
   "execution_count": 17,
   "metadata": {},
   "outputs": [
    {
     "data": {
      "image/png": "[encoded data removed]",
      "text/plain": [
       "<Figure size 864x216 with 3 Axes>"
      ]
     },
     "metadata": {
      "needs_background": "light"
     },
     "output_type": "display_data"
    }
   ],
   "source": [
    "f, axes = plt.subplots(1, 3, figsize=(12, 3))\n",
    "(ax1, ax2, ax3) = axes\n",
    "ax1.hist((Osp.dot(Osp.T) - eye).ravel())\n",
    "ax2.hist((torch.mm(Ot32, Ot32.t()).cpu().numpy() - eye).ravel())\n",
    "ax3.hist((torch.mm(Ot64, Ot64.t()).cpu().numpy() - eye).ravel())\n",
    "ax1.set_title('scipy')\n",
    "ax2.set_title('gpu, float32')\n",
    "ax3.set_title('gpu, float64')\n",
    "for ax in axes:\n",
    "    ax.set_yscale('log')\n",
    "    ax.set_ylabel('counts')\n",
    "    ax.set_xlabel('error')\n",
    "    ax.ticklabel_format(axis='x', style='sci', scilimits=(0, 0))\n",
    "f.tight_layout()"
   ]
  },
  {
   "cell_type": "code",
   "execution_count": 8,
   "metadata": {},
   "outputs": [],
   "source": [
    "times = np.zeros((2, len(time_dims), n_repeat))\n",
    "for ii, dim in enumerate(time_dims):\n",
    "    for jj in range(n_repeat):\n",
    "        dim = int(dim)\n",
    "        start = time.time()\n",
    "        ortho_group.rvs(dim)\n",
    "        times[0, ii, jj] = time.time() - start\n",
    "        start = time.time()\n",
    "        ortho_group_rvs(dim)\n",
    "        times[1, ii, jj] = time.time() - start"
   ]
  },
  {
   "cell_type": "code",
   "execution_count": 9,
   "metadata": {},
   "outputs": [
    {
     "data": {
      "text/plain": [
       "<matplotlib.legend.Legend at 0x7f4da5b51ef0>"
      ]
     },
     "execution_count": 9,
     "metadata": {},
     "output_type": "execute_result"
    },
    {
     "data": {
      "image/png": "[encoded data removed]",
      "text/plain": [
       "<Figure size 432x288 with 1 Axes>"
      ]
     },
     "metadata": {
      "needs_background": "light"
     },
     "output_type": "display_data"
    }
   ],
   "source": [
    "plt.plot(time_dims, np.median(times[0], axis=-1), label='scipy')\n",
    "plt.plot(time_dims, np.median(times[1], axis=-1), label='gpu')\n",
    "plt.xlabel('dim')\n",
    "plt.ylabel('time (s)')\n",
    "plt.xscale('log')\n",
    "plt.yscale('log')\n",
    "plt.legend(loc='best')"
   ]
  },
  {
   "cell_type": "markdown",
   "metadata": {},
   "source": [
    "# Special orthogonal group"
   ]
  },
  {
   "cell_type": "code",
   "execution_count": 10,
   "metadata": {},
   "outputs": [
    {
     "name": "stdout",
     "output_type": "stream",
     "text": [
      "13.7 s ± 384 ms per loop (mean ± std. dev. of 7 runs, 1 loop each)\n"
     ]
    }
   ],
   "source": [
    "%timeit special_ortho_group.rvs(time_dim)"
   ]
  },
  {
   "cell_type": "code",
   "execution_count": 11,
   "metadata": {},
   "outputs": [
    {
     "name": "stdout",
     "output_type": "stream",
     "text": [
      "268 ms ± 1.08 ms per loop (mean ± std. dev. of 7 runs, 1 loop each)\n"
     ]
    }
   ],
   "source": [
    "%timeit special_ortho_group_rvs(time_dim)"
   ]
  },
  {
   "cell_type": "code",
   "execution_count": 12,
   "metadata": {},
   "outputs": [
    {
     "name": "stdout",
     "output_type": "stream",
     "text": [
      "597 ms ± 1.3 ms per loop (mean ± std. dev. of 7 runs, 1 loop each)\n"
     ]
    }
   ],
   "source": [
    "%timeit special_ortho_group_rvs(time_dim, dtype=torch.float64)"
   ]
  },
  {
   "cell_type": "code",
   "execution_count": 13,
   "metadata": {},
   "outputs": [],
   "source": [
    "SOt32 = ortho_group_rvs(plot_dim)\n",
    "SOt64 = ortho_group_rvs(plot_dim, dtype=torch.float64)\n",
    "SOsp = ortho_group.rvs(plot_dim)\n",
    "eye = np.eye(plot_dim)"
   ]
  },
  {
   "cell_type": "code",
   "execution_count": 18,
   "metadata": {},
   "outputs": [
    {
     "data": {
      "image/png": "[encoded data removed]",
      "text/plain": [
       "<Figure size 720x216 with 3 Axes>"
      ]
     },
     "metadata": {
      "needs_background": "light"
     },
     "output_type": "display_data"
    }
   ],
   "source": [
    "f, axes = plt.subplots(1, 3, figsize=(10, 3))\n",
    "(ax1, ax2, ax3) = axes\n",
    "ax1.hist((SOsp.dot(SOsp.T) - eye).ravel())\n",
    "ax2.hist((torch.mm(SOt32, SOt32.t()).cpu().numpy() - eye).ravel())\n",
    "ax3.hist((torch.mm(SOt64, SOt64.t()).cpu().numpy() - eye).ravel())\n",
    "ax1.set_title('scipy')\n",
    "ax2.set_title('gpu, float32')\n",
    "ax3.set_title('gpu, float64')\n",
    "for ax in axes:\n",
    "    ax.set_yscale('log')\n",
    "    ax.set_ylabel('counts')\n",
    "    ax.set_xlabel('error')\n",
    "    ax.ticklabel_format(axis='x', style='sci', scilimits=(0, 0))\n",
    "f.tight_layout()"
   ]
  },
  {
   "cell_type": "code",
   "execution_count": 15,
   "metadata": {},
   "outputs": [],
   "source": [
    "times = np.zeros((2, len(time_dims), n_repeat))\n",
    "for ii, dim in enumerate(time_dims):\n",
    "    for jj in range(n_repeat):\n",
    "        dim = int(dim)\n",
    "        start = time.time()\n",
    "        special_ortho_group.rvs(dim)\n",
    "        times[0, ii, jj] = time.time() - start\n",
    "        start = time.time()\n",
    "        special_ortho_group_rvs(dim)\n",
    "        times[1, ii, jj] = time.time() - start"
   ]
  },
  {
   "cell_type": "code",
   "execution_count": 16,
   "metadata": {},
   "outputs": [
    {
     "data": {
      "text/plain": [
       "<matplotlib.legend.Legend at 0x7f4d9cdd3ac8>"
      ]
     },
     "execution_count": 16,
     "metadata": {},
     "output_type": "execute_result"
    },
    {
     "data": {
      "image/png": "[encoded data removed]",
      "text/plain": [
       "<Figure size 432x288 with 1 Axes>"
      ]
     },
     "metadata": {
      "needs_background": "light"
     },
     "output_type": "display_data"
    }
   ],
   "source": [
    "plt.plot(time_dims, np.median(times[0], axis=-1), label='scipy')\n",
    "plt.plot(time_dims, np.median(times[1], axis=-1), label='gpu')\n",
    "plt.xlabel('dim')\n",
    "plt.ylabel('time (s)')\n",
    "plt.xscale('log')\n",
    "plt.yscale('log')\n",
    "plt.legend(loc='best')"
   ]
  },
  {
   "cell_type": "code",
   "execution_count": null,
   "metadata": {},
   "outputs": [],
   "source": []
  }
 ],
 "metadata": {
  "kernelspec": {
   "display_name": "Python 3",
   "language": "python",
   "name": "python3"
  },
  "language_info": {
   "codemirror_mode": {
    "name": "ipython",
    "version": 3
   },
   "file_extension": ".py",
   "mimetype": "text/x-python",
   "name": "python",
   "nbconvert_exporter": "python",
   "pygments_lexer": "ipython3",
   "version": "3.6.8"
  }
 },
 "nbformat": 4,
 "nbformat_minor": 2
}
